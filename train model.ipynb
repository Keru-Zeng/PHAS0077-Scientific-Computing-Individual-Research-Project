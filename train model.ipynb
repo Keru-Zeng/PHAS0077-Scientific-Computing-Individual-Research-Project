{
 "cells": [
  {
   "cell_type": "markdown",
   "id": "48624261",
   "metadata": {},
   "source": [
    "Train the U-Net model"
   ]
  },
  {
   "cell_type": "markdown",
   "id": "e27c83f3",
   "metadata": {},
   "source": [
    "These codes are modified based on Abhinav Sagar, Nucleus Segmentation using U-Net, https://towardsdatascience.com/nucleus-segmentation-using-u-net-eceb14a9ced4"
   ]
  },
  {
   "cell_type": "code",
   "execution_count": 1,
   "id": "2b181198",
   "metadata": {},
   "outputs": [],
   "source": [
    "#import useful libraries\n",
    "import os\n",
    "import sys\n",
    "import random\n",
    "import warnings\n",
    "import numpy as np\n",
    "import matplotlib.pyplot as plt\n",
    "from tqdm import tqdm\n",
    "from itertools import chain\n",
    "from skimage.io import imread, imshow, imread_collection, concatenate_images\n",
    "from skimage.transform import resize\n",
    "from tensorflow import keras\n",
    "from keras.callbacks import EarlyStopping, ModelCheckpoint\n",
    "from skimage import io\n",
    "import tensorflow as tf\n",
    "from functions import *\n"
   ]
  },
  {
   "cell_type": "code",
   "execution_count": 2,
   "id": "640b9463",
   "metadata": {},
   "outputs": [],
   "source": [
    "BATCH_SIZE = 10 # the higher the better\n",
    "IMG_WIDTH = 128 # for faster computing on kaggle\n",
    "IMG_HEIGHT = 128 # for faster computing on kaggle\n",
    "IMG_CHANNELS = 3 \n",
    "TRAIN_PATH = './stage1_train/'\n",
    "warnings.filterwarnings('ignore', category=UserWarning, module='skimage')\n",
    "seed = 42\n",
    "\n",
    "#load all the file name into training and testing directory\n",
    "train_ids = next(os.walk(TRAIN_PATH))[1]\n",
    "\n",
    "np.random.seed(10)#the 10th seed\n"
   ]
  },
  {
   "cell_type": "code",
   "execution_count": 3,
   "id": "783bb9c1",
   "metadata": {},
   "outputs": [
    {
     "name": "stdout",
     "output_type": "stream",
     "text": [
      "Getting and resizing train images and masks ... \n"
     ]
    },
    {
     "name": "stderr",
     "output_type": "stream",
     "text": [
      "C:\\Users\\ZKR\\AppData\\Local\\Temp\\ipykernel_5328\\2171445504.py:3: DeprecationWarning: `np.bool` is a deprecated alias for the builtin `bool`. To silence this warning, use `bool` by itself. Doing this will not modify any behavior and is safe. If you specifically wanted the numpy scalar type, use `np.bool_` here.\n",
      "Deprecated in NumPy 1.20; for more details and guidance: https://numpy.org/devdocs/release/1.20.0-notes.html#deprecations\n",
      "  Y_train = np.zeros((len(train_ids), IMG_HEIGHT, IMG_WIDTH, 1), dtype=np.bool)\n",
      "  0%|          | 0/100 [00:00<?, ?it/s]C:\\Users\\ZKR\\AppData\\Local\\Temp\\ipykernel_5328\\2171445504.py:13: DeprecationWarning: `np.bool` is a deprecated alias for the builtin `bool`. To silence this warning, use `bool` by itself. Doing this will not modify any behavior and is safe. If you specifically wanted the numpy scalar type, use `np.bool_` here.\n",
      "Deprecated in NumPy 1.20; for more details and guidance: https://numpy.org/devdocs/release/1.20.0-notes.html#deprecations\n",
      "  mask = np.zeros((IMG_HEIGHT, IMG_WIDTH, 1), dtype=np.bool)\n",
      "100%|██████████| 100/100 [00:48<00:00,  2.08it/s]\n"
     ]
    }
   ],
   "source": [
    "# build X and Y train set\n",
    "X_train = np.zeros((len(train_ids), IMG_HEIGHT, IMG_WIDTH, IMG_CHANNELS), dtype=np.uint8)\n",
    "Y_train = np.zeros((len(train_ids), IMG_HEIGHT, IMG_WIDTH, 1), dtype=np.bool)\n",
    "\n",
    "print('Getting and resizing train images and masks ... ')\n",
    "sys.stdout.flush()#output on the same line with time interval\n",
    "for n, id_ in tqdm(enumerate(train_ids), total=len(train_ids)):#why _\n",
    "    path = TRAIN_PATH + id_\n",
    "    img = imread(path + '/images/' + id_ + '.png')[:,:,:IMG_CHANNELS]\n",
    "    #make tif from 256*256 to 128*128 to increase computational speed\n",
    "    img = resize(img, (IMG_HEIGHT, IMG_WIDTH), mode='constant', preserve_range=True)\n",
    "    X_train[n] = img\n",
    "    mask = np.zeros((IMG_HEIGHT, IMG_WIDTH, 1), dtype=np.bool)\n",
    "    for mask_file in next(os.walk(path + '/masks/'))[2]:#what is [2]\n",
    "        mask_ = imread(path + '/masks/' + mask_file)\n",
    "        mask_ = np.expand_dims(resize(mask_, (IMG_HEIGHT, IMG_WIDTH), mode='constant', \n",
    "                                      preserve_range=True), axis=-1)\n",
    "        mask = np.maximum(mask, mask_)\n",
    "    Y_train[n] = mask# what do this mask fun do?"
   ]
  },
  {
   "cell_type": "code",
   "execution_count": 4,
   "id": "5c45f472",
   "metadata": {},
   "outputs": [],
   "source": [
    "x,y,x_val,y_val=data_aug(X_train,Y_train)\n",
    "\n",
    "train_generator = zip(x, y)\n",
    "val_generator = zip(x_val, y_val)"
   ]
  },
  {
   "cell_type": "code",
   "execution_count": null,
   "id": "699c12ae",
   "metadata": {},
   "outputs": [],
   "source": []
  },
  {
   "cell_type": "code",
   "execution_count": 5,
   "id": "fe42d6ca",
   "metadata": {},
   "outputs": [
    {
     "name": "stdout",
     "output_type": "stream",
     "text": [
      "Model: \"model\"\n",
      "__________________________________________________________________________________________________\n",
      "Layer (type)                    Output Shape         Param #     Connected to                     \n",
      "==================================================================================================\n",
      "input_1 (InputLayer)            [(None, 128, 128, 3) 0                                            \n",
      "__________________________________________________________________________________________________\n",
      "lambda (Lambda)                 (None, 128, 128, 3)  0           input_1[0][0]                    \n",
      "__________________________________________________________________________________________________\n",
      "conv2d (Conv2D)                 (None, 128, 128, 16) 448         lambda[0][0]                     \n",
      "__________________________________________________________________________________________________\n",
      "dropout (Dropout)               (None, 128, 128, 16) 0           conv2d[0][0]                     \n",
      "__________________________________________________________________________________________________\n",
      "conv2d_1 (Conv2D)               (None, 128, 128, 16) 2320        dropout[0][0]                    \n",
      "__________________________________________________________________________________________________\n",
      "max_pooling2d (MaxPooling2D)    (None, 64, 64, 16)   0           conv2d_1[0][0]                   \n",
      "__________________________________________________________________________________________________\n",
      "conv2d_2 (Conv2D)               (None, 64, 64, 32)   4640        max_pooling2d[0][0]              \n",
      "__________________________________________________________________________________________________\n",
      "dropout_1 (Dropout)             (None, 64, 64, 32)   0           conv2d_2[0][0]                   \n",
      "__________________________________________________________________________________________________\n",
      "conv2d_3 (Conv2D)               (None, 64, 64, 32)   9248        dropout_1[0][0]                  \n",
      "__________________________________________________________________________________________________\n",
      "max_pooling2d_1 (MaxPooling2D)  (None, 32, 32, 32)   0           conv2d_3[0][0]                   \n",
      "__________________________________________________________________________________________________\n",
      "conv2d_4 (Conv2D)               (None, 32, 32, 64)   18496       max_pooling2d_1[0][0]            \n",
      "__________________________________________________________________________________________________\n",
      "dropout_2 (Dropout)             (None, 32, 32, 64)   0           conv2d_4[0][0]                   \n",
      "__________________________________________________________________________________________________\n",
      "conv2d_5 (Conv2D)               (None, 32, 32, 64)   36928       dropout_2[0][0]                  \n",
      "__________________________________________________________________________________________________\n",
      "max_pooling2d_2 (MaxPooling2D)  (None, 16, 16, 64)   0           conv2d_5[0][0]                   \n",
      "__________________________________________________________________________________________________\n",
      "conv2d_6 (Conv2D)               (None, 16, 16, 128)  73856       max_pooling2d_2[0][0]            \n",
      "__________________________________________________________________________________________________\n",
      "dropout_3 (Dropout)             (None, 16, 16, 128)  0           conv2d_6[0][0]                   \n",
      "__________________________________________________________________________________________________\n",
      "conv2d_7 (Conv2D)               (None, 16, 16, 128)  147584      dropout_3[0][0]                  \n",
      "__________________________________________________________________________________________________\n",
      "max_pooling2d_3 (MaxPooling2D)  (None, 8, 8, 128)    0           conv2d_7[0][0]                   \n",
      "__________________________________________________________________________________________________\n",
      "conv2d_8 (Conv2D)               (None, 8, 8, 256)    295168      max_pooling2d_3[0][0]            \n",
      "__________________________________________________________________________________________________\n",
      "dropout_4 (Dropout)             (None, 8, 8, 256)    0           conv2d_8[0][0]                   \n",
      "__________________________________________________________________________________________________\n",
      "conv2d_9 (Conv2D)               (None, 8, 8, 256)    590080      dropout_4[0][0]                  \n",
      "__________________________________________________________________________________________________\n",
      "conv2d_transpose (Conv2DTranspo (None, 16, 16, 128)  131200      conv2d_9[0][0]                   \n",
      "__________________________________________________________________________________________________\n",
      "concatenate (Concatenate)       (None, 16, 16, 256)  0           conv2d_transpose[0][0]           \n",
      "                                                                 conv2d_7[0][0]                   \n",
      "__________________________________________________________________________________________________\n",
      "conv2d_10 (Conv2D)              (None, 16, 16, 128)  295040      concatenate[0][0]                \n",
      "__________________________________________________________________________________________________\n",
      "dropout_5 (Dropout)             (None, 16, 16, 128)  0           conv2d_10[0][0]                  \n",
      "__________________________________________________________________________________________________\n",
      "conv2d_11 (Conv2D)              (None, 16, 16, 128)  147584      dropout_5[0][0]                  \n",
      "__________________________________________________________________________________________________\n",
      "conv2d_transpose_1 (Conv2DTrans (None, 32, 32, 64)   32832       conv2d_11[0][0]                  \n",
      "__________________________________________________________________________________________________\n",
      "concatenate_1 (Concatenate)     (None, 32, 32, 128)  0           conv2d_transpose_1[0][0]         \n",
      "                                                                 conv2d_5[0][0]                   \n",
      "__________________________________________________________________________________________________\n",
      "conv2d_12 (Conv2D)              (None, 32, 32, 64)   73792       concatenate_1[0][0]              \n",
      "__________________________________________________________________________________________________\n",
      "dropout_6 (Dropout)             (None, 32, 32, 64)   0           conv2d_12[0][0]                  \n",
      "__________________________________________________________________________________________________\n",
      "conv2d_13 (Conv2D)              (None, 32, 32, 64)   36928       dropout_6[0][0]                  \n",
      "__________________________________________________________________________________________________\n",
      "conv2d_transpose_2 (Conv2DTrans (None, 64, 64, 32)   8224        conv2d_13[0][0]                  \n",
      "__________________________________________________________________________________________________\n",
      "concatenate_2 (Concatenate)     (None, 64, 64, 64)   0           conv2d_transpose_2[0][0]         \n",
      "                                                                 conv2d_3[0][0]                   \n",
      "__________________________________________________________________________________________________\n",
      "conv2d_14 (Conv2D)              (None, 64, 64, 32)   18464       concatenate_2[0][0]              \n",
      "__________________________________________________________________________________________________\n",
      "dropout_7 (Dropout)             (None, 64, 64, 32)   0           conv2d_14[0][0]                  \n",
      "__________________________________________________________________________________________________\n",
      "conv2d_15 (Conv2D)              (None, 64, 64, 32)   9248        dropout_7[0][0]                  \n",
      "__________________________________________________________________________________________________\n",
      "conv2d_transpose_3 (Conv2DTrans (None, 128, 128, 16) 2064        conv2d_15[0][0]                  \n",
      "__________________________________________________________________________________________________\n",
      "concatenate_3 (Concatenate)     (None, 128, 128, 32) 0           conv2d_transpose_3[0][0]         \n",
      "                                                                 conv2d_1[0][0]                   \n",
      "__________________________________________________________________________________________________\n",
      "conv2d_16 (Conv2D)              (None, 128, 128, 16) 4624        concatenate_3[0][0]              \n",
      "__________________________________________________________________________________________________\n",
      "dropout_8 (Dropout)             (None, 128, 128, 16) 0           conv2d_16[0][0]                  \n",
      "__________________________________________________________________________________________________\n",
      "conv2d_17 (Conv2D)              (None, 128, 128, 16) 2320        dropout_8[0][0]                  \n",
      "__________________________________________________________________________________________________\n",
      "conv2d_18 (Conv2D)              (None, 128, 128, 1)  17          conv2d_17[0][0]                  \n",
      "==================================================================================================\n",
      "Total params: 1,941,105\n",
      "Trainable params: 1,941,105\n",
      "Non-trainable params: 0\n",
      "__________________________________________________________________________________________________\n"
     ]
    }
   ],
   "source": [
    "\n",
    "model = trainU_net(IMG_HEIGHT, IMG_WIDTH, IMG_CHANNELS)\n",
    "model.compile(optimizer='adam', loss='binary_crossentropy', metrics=['accuracy'])#tf.keras.metrics.MeanIoU(num_classes=2)\n",
    "model.summary()"
   ]
  },
  {
   "cell_type": "code",
   "execution_count": 6,
   "id": "dce7eb45",
   "metadata": {},
   "outputs": [
    {
     "name": "stderr",
     "output_type": "stream",
     "text": [
      "c:\\Users\\ZKR\\anaconda3\\envs\\tf\\lib\\site-packages\\keras\\engine\\training.py:1972: UserWarning: `Model.fit_generator` is deprecated and will be removed in a future version. Please use `Model.fit`, which supports generators.\n",
      "  warnings.warn('`Model.fit_generator` is deprecated and '\n"
     ]
    },
    {
     "name": "stdout",
     "output_type": "stream",
     "text": [
      "Epoch 1/5\n",
      "100/100 [==============================] - 59s 555ms/step - loss: 0.3235 - accuracy: 0.8215 - val_loss: 0.1076 - val_accuracy: 0.9579\n",
      "\n",
      "Epoch 00001: val_loss improved from inf to 0.10764, saving model to model.h5\n",
      "Epoch 2/5\n",
      "100/100 [==============================] - 55s 547ms/step - loss: 0.1682 - accuracy: 0.8899 - val_loss: 0.0921 - val_accuracy: 0.9645\n",
      "\n",
      "Epoch 00002: val_loss improved from 0.10764 to 0.09206, saving model to model.h5\n",
      "Epoch 3/5\n",
      "100/100 [==============================] - 56s 563ms/step - loss: 0.1479 - accuracy: 0.8980 - val_loss: 0.0790 - val_accuracy: 0.9702\n",
      "\n",
      "Epoch 00003: val_loss improved from 0.09206 to 0.07899, saving model to model.h5\n",
      "Epoch 4/5\n",
      "100/100 [==============================] - 55s 550ms/step - loss: 0.1449 - accuracy: 0.8992 - val_loss: 0.0751 - val_accuracy: 0.9708\n",
      "\n",
      "Epoch 00004: val_loss improved from 0.07899 to 0.07507, saving model to model.h5\n",
      "Epoch 5/5\n",
      "100/100 [==============================] - 55s 550ms/step - loss: 0.1232 - accuracy: 0.9060 - val_loss: 0.0759 - val_accuracy: 0.9709\n",
      "\n",
      "Epoch 00005: val_loss did not improve from 0.07507\n"
     ]
    },
    {
     "data": {
      "text/plain": [
       "{'loss': [0.32353994250297546,\n",
       "  0.16815313696861267,\n",
       "  0.1478898674249649,\n",
       "  0.14487506449222565,\n",
       "  0.12320280820131302],\n",
       " 'accuracy': [0.8214518427848816,\n",
       "  0.8899240493774414,\n",
       "  0.8979663848876953,\n",
       "  0.8992491960525513,\n",
       "  0.9059960842132568],\n",
       " 'val_loss': [0.10764157027006149,\n",
       "  0.0920599102973938,\n",
       "  0.0789913609623909,\n",
       "  0.0750730112195015,\n",
       "  0.07590647041797638],\n",
       " 'val_accuracy': [0.9579101800918579,\n",
       "  0.9644775390625,\n",
       "  0.9702209234237671,\n",
       "  0.970843493938446,\n",
       "  0.970904529094696]}"
      ]
     },
     "execution_count": 6,
     "metadata": {},
     "output_type": "execute_result"
    }
   ],
   "source": [
    "# fit the model\n",
    "#Stop training when a monitored metric has stopped improving.\n",
    "earlystopper = EarlyStopping(patience=3, verbose=1)\n",
    "# save a model or weights (in a checkpoint file) at some interval, \n",
    "#so the model or weights can be loaded later to continue the training from the state saved.\n",
    "checkpointer = ModelCheckpoint('model.h5', verbose=1, save_best_only=True)\n",
    "#default batch size is 32. We use fit_generator(), since there are data argumentation\n",
    "results = model.fit_generator(train_generator, validation_data=val_generator, validation_steps=10, steps_per_epoch=100,\n",
    "                              epochs=5, callbacks=[earlystopper, checkpointer])\n",
    "results.history"
   ]
  },
  {
   "cell_type": "code",
   "execution_count": 7,
   "id": "b6b5bb09",
   "metadata": {},
   "outputs": [],
   "source": [
    "#save your loss data\n",
    "mse = np.array((results.history['loss']))\n",
    "val_mse=np.array((results.history['val_loss']))\n",
    "#np.save('loss.npy', mse)\n",
    "#np.save('val_loss.npy', val_mse)\n",
    "acc = np.array((results.history['accuracy']))\n",
    "val_acc=np.array((results.history['val_accuracy']))\n",
    "#np.save('acc.npy', acc)\n",
    "#np.save('val_acc.npy', val_acc)"
   ]
  },
  {
   "cell_type": "code",
   "execution_count": 8,
   "id": "488efa72",
   "metadata": {},
   "outputs": [
    {
     "data": {
      "image/png": "[encoded data removed]",
      "text/plain": [
       "<Figure size 864x864 with 2 Axes>"
      ]
     },
     "metadata": {
      "needs_background": "light"
     },
     "output_type": "display_data"
    },
    {
     "data": {
      "text/plain": [
       "<Figure size 432x288 with 0 Axes>"
      ]
     },
     "metadata": {},
     "output_type": "display_data"
    }
   ],
   "source": [
    "# summarize history and plot the relevant data\n",
    "plt.figure(figsize=(12,12))\n",
    "plt.subplot(211)\n",
    "plt.plot(results.history['accuracy'])\n",
    "plt.plot(results.history['val_accuracy'])\n",
    "plt.title('model accuracy',fontsize=14)\n",
    "plt.ylabel('accuracy',fontsize=14)\n",
    "plt.xlabel('epoch',fontsize=14)\n",
    "plt.legend(['train_set', 'val_set'], loc='upper right',fontsize=14)\n",
    "plt.subplot(212)\n",
    "plt.plot(results.history['loss'])\n",
    "plt.plot(results.history['val_loss'])\n",
    "plt.title('model loss',fontsize=14)\n",
    "plt.ylabel('loss',fontsize=14)\n",
    "plt.xlabel('epoch',fontsize=14)\n",
    "plt.legend(['train_set', 'val_set'], loc='upper right',fontsize=14)\n",
    "plt.show()\n",
    "plt.savefig('summary.png')\n"
   ]
  },
  {
   "cell_type": "code",
   "execution_count": null,
   "id": "4b6b9c46",
   "metadata": {},
   "outputs": [],
   "source": []
  }
 ],
 "metadata": {
  "kernelspec": {
   "display_name": "tf",
   "language": "python",
   "name": "tf"
  },
  "language_info": {
   "codemirror_mode": {
    "name": "ipython",
    "version": 3
   },
   "file_extension": ".py",
   "mimetype": "text/x-python",
   "name": "python",
   "nbconvert_exporter": "python",
   "pygments_lexer": "ipython3",
   "version": "3.8.13"
  }
 },
 "nbformat": 4,
 "nbformat_minor": 5
}
